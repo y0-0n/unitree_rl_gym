{
 "cells": [
  {
   "cell_type": "code",
   "execution_count": 1,
   "id": "dee389da",
   "metadata": {},
   "outputs": [],
   "source": [
    "import copy\n",
    "import os\n",
    "import torch\n",
    "\n",
    "from rsl_rl.runners import OnPolicyRunner\n",
    "from rsl_rl.modules import ActorCriticRecurrent"
   ]
  },
  {
   "cell_type": "code",
   "execution_count": 2,
   "id": "d6cbd3cd",
   "metadata": {},
   "outputs": [],
   "source": [
    "class _OnnxPolicyExporter(torch.nn.Module):\n",
    "    \"\"\"Exporter of actor-critic into ONNX file.\"\"\"\n",
    "\n",
    "    def __init__(self, actor_critic, normalizer=None, verbose=False):\n",
    "        super().__init__()\n",
    "        self.verbose = verbose\n",
    "        self.actor = copy.deepcopy(actor_critic.actor)\n",
    "        self.is_recurrent = actor_critic.is_recurrent\n",
    "        if self.is_recurrent:\n",
    "            self.rnn = copy.deepcopy(actor_critic.memory_a.rnn)\n",
    "            self.rnn.cpu()\n",
    "            self.forward = self.forward_lstm\n",
    "        # copy normalizer if exists\n",
    "        if normalizer:\n",
    "            self.normalizer = copy.deepcopy(normalizer)\n",
    "        else:\n",
    "            self.normalizer = torch.nn.Identity()\n",
    "\n",
    "    def forward_lstm(self, x_in, h_in, c_in):\n",
    "        # x_in = self.normalizer(x_in)\n",
    "        # x, (h, c) = self.rnn(x_in.unsqueeze(0), (h_in, c_in))\n",
    "        # x = x.squeeze(0)\n",
    "        # return self.actor(x), h, c\n",
    "        out, (h_out, c_out) = self.rnn(x_in.unsqueeze(0), (h_in, c_in))\n",
    "        # self.hidden_state[:] = h_out\n",
    "        # self.cell_state[:] = c_out\n",
    "        return self.actor(out.squeeze(0)), h_out, c_out\n",
    "\n",
    "    def forward(self, x):\n",
    "        return self.actor(self.normalizer(x))\n",
    "\n",
    "    def export(self, path, filename):\n",
    "        self.to(\"cpu\")\n",
    "        if self.is_recurrent:\n",
    "            obs = torch.zeros(1, self.rnn.input_size)\n",
    "            h_in = torch.zeros(self.rnn.num_layers, 1, self.rnn.hidden_size)\n",
    "            c_in = torch.zeros(self.rnn.num_layers, 1, self.rnn.hidden_size)\n",
    "            actions, h_out, c_out = self(obs, h_in, c_in)\n",
    "            torch.onnx.export(\n",
    "                self,\n",
    "                (obs, h_in, c_in),\n",
    "                os.path.join(path, filename),\n",
    "                export_params=True,\n",
    "                opset_version=11,\n",
    "                verbose=self.verbose,\n",
    "                input_names=[\"obs\", \"h_in\", \"c_in\"],\n",
    "                output_names=[\"actions\", \"h_out\", \"c_out\"],\n",
    "                dynamic_axes={},\n",
    "            )\n",
    "        else:\n",
    "            obs = torch.zeros(1, self.actor[0].in_features)\n",
    "            torch.onnx.export(\n",
    "                self,\n",
    "                obs,\n",
    "                os.path.join(path, filename),\n",
    "                export_params=True,\n",
    "                opset_version=11,\n",
    "                verbose=self.verbose,\n",
    "                input_names=[\"obs\"],\n",
    "                output_names=[\"actions\"],\n",
    "                dynamic_axes={},\n",
    "            )"
   ]
  },
  {
   "cell_type": "code",
   "execution_count": 3,
   "id": "aba08aaf",
   "metadata": {},
   "outputs": [],
   "source": [
    "def export_policy_as_onnx(\n",
    "    actor_critic: object, path: str, normalizer: object | None = None, filename=\"policy.onnx\", verbose=False\n",
    "):\n",
    "    \"\"\"Export policy into a Torch ONNX file.\n",
    "\n",
    "    Args:\n",
    "        actor_critic: The actor-critic torch module.\n",
    "        normalizer: The empirical normalizer module. If None, Identity is used.\n",
    "        path: The path to the saving directory.\n",
    "        filename: The name of exported ONNX file. Defaults to \"policy.onnx\".\n",
    "        verbose: Whether to print the model summary. Defaults to False.\n",
    "    \"\"\"\n",
    "    if not os.path.exists(path):\n",
    "        os.makedirs(path, exist_ok=True)\n",
    "    policy_exporter = _OnnxPolicyExporter(actor_critic, normalizer, verbose)\n",
    "    policy_exporter.export(path, filename)\n"
   ]
  },
  {
   "cell_type": "code",
   "execution_count": 4,
   "id": "cd58cede",
   "metadata": {},
   "outputs": [
    {
     "name": "stdout",
     "output_type": "stream",
     "text": [
      "Actor MLP: Sequential(\n",
      "  (0): Linear(in_features=64, out_features=32, bias=True)\n",
      "  (1): ELU(alpha=1.0)\n",
      "  (2): Linear(in_features=32, out_features=12, bias=True)\n",
      ")\n",
      "Critic MLP: Sequential(\n",
      "  (0): Linear(in_features=64, out_features=32, bias=True)\n",
      "  (1): ELU(alpha=1.0)\n",
      "  (2): Linear(in_features=32, out_features=1, bias=True)\n",
      ")\n",
      "Actor RNN: Memory(\n",
      "  (rnn): LSTM(47, 64)\n",
      ")\n",
      "Critic RNN: Memory(\n",
      "  (rnn): LSTM(50, 64)\n",
      ")\n"
     ]
    },
    {
     "name": "stderr",
     "output_type": "stream",
     "text": [
      "/tmp/ipykernel_1180875/1761868469.py:6: FutureWarning: You are using `torch.load` with `weights_only=False` (the current default value), which uses the default pickle module implicitly. It is possible to construct malicious pickle data which will execute arbitrary code during unpickling (See https://github.com/pytorch/pytorch/blob/main/SECURITY.md#untrusted-models for more details). In a future release, the default value for `weights_only` will be flipped to `True`. This limits the functions that could be executed during unpickling. Arbitrary objects will no longer be allowed to be loaded via this mode unless they are explicitly allowlisted by the user via `torch.serialization.add_safe_globals`. We recommend you start setting `weights_only=True` for any use case where you don't have full control of the loaded file. Please open an issue on GitHub for any issues related to this experimental feature.\n",
      "  ckpt = torch.load(\"./g1/model_1650.pt\", map_location=\"cuda:0\")\n"
     ]
    },
    {
     "data": {
      "text/plain": [
       "<All keys matched successfully>"
      ]
     },
     "execution_count": 4,
     "metadata": {},
     "output_type": "execute_result"
    }
   ],
   "source": [
    "# model = torch.jit.load(\"./g1/motion.pt\")\n",
    "actor_critic = ActorCriticRecurrent(num_actor_obs=47, num_critic_obs=50, num_actions=12, \n",
    "                                    actor_hidden_dims=[32],\n",
    "                                    critic_hidden_dims=[32],\n",
    "                                    rnn_hidden_size=64)\n",
    "ckpt = torch.load(\"./g1/model_1650.pt\", map_location=\"cuda:0\")\n",
    "actor_critic.load_state_dict(ckpt[\"model_state_dict\"])"
   ]
  },
  {
   "cell_type": "code",
   "execution_count": null,
   "id": "8b336000",
   "metadata": {},
   "outputs": [
    {
     "name": "stderr",
     "output_type": "stream",
     "text": [
      "/home/yoonbyeong/Dev/IsaacLab/_isaac_sim/exts/omni.isaac.ml_archive/pip_prebundle/torch/onnx/symbolic_opset9.py:4279: UserWarning: Exporting a model to ONNX with a batch_size other than 1, with a variable length with LSTM can cause an error when running the ONNX model with a different batch size. Make sure to save the model with a batch size of 1, or define the initial states (h0/c0) as inputs of the model. \n",
      "  warnings.warn(\n"
     ]
    }
   ],
   "source": [
    "policy_exporter = _OnnxPolicyExporter(actor_critic, None, False)\n",
    "policy_exporter.export(\".\", \"unitree_policy.onnx\")"
   ]
  },
  {
   "cell_type": "code",
   "execution_count": null,
   "id": "7d6a533c",
   "metadata": {},
   "outputs": [
    {
     "ename": "NameError",
     "evalue": "name 'env' is not defined",
     "output_type": "error",
     "traceback": [
      "\u001b[0;31m---------------------------------------------------------------------------\u001b[0m",
      "\u001b[0;31mNameError\u001b[0m                                 Traceback (most recent call last)",
      "Cell \u001b[0;32mIn[6], line 1\u001b[0m\n\u001b[0;32m----> 1\u001b[0m runner \u001b[38;5;241m=\u001b[39m OnPolicyRunner(\u001b[43menv\u001b[49m, train_cfg_dict, \u001b[38;5;28;01mNone\u001b[39;00m, device\u001b[38;5;241m=\u001b[39margs\u001b[38;5;241m.\u001b[39mrl_device)\n\u001b[1;32m      2\u001b[0m actor_critic[\u001b[38;5;124m\"\u001b[39m\u001b[38;5;124mmodel_state_dict\u001b[39m\u001b[38;5;124m\"\u001b[39m]\n",
      "\u001b[0;31mNameError\u001b[0m: name 'env' is not defined"
     ]
    }
   ],
   "source": [
    "# runner = OnPolicyRunner(env, train_cfg_dict, None, device=args.rl_device)\n",
    "# actor_critic[\"model_state_dict\"]"
   ]
  }
 ],
 "metadata": {
  "kernelspec": {
   "display_name": "env_isaaclab",
   "language": "python",
   "name": "python3"
  },
  "language_info": {
   "codemirror_mode": {
    "name": "ipython",
    "version": 3
   },
   "file_extension": ".py",
   "mimetype": "text/x-python",
   "name": "python",
   "nbconvert_exporter": "python",
   "pygments_lexer": "ipython3",
   "version": "3.10.16"
  }
 },
 "nbformat": 4,
 "nbformat_minor": 5
}
